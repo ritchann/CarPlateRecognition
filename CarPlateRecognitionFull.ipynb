{
  "nbformat": 4,
  "nbformat_minor": 0,
  "metadata": {
    "colab": {
      "provenance": [],
      "collapsed_sections": []
    },
    "kernelspec": {
      "name": "python3",
      "display_name": "Python 3"
    },
    "language_info": {
      "name": "python"
    }
  },
  "cells": [
    {
      "cell_type": "code",
      "execution_count": null,
      "metadata": {
        "id": "7M3XOAVfAJX1"
      },
      "outputs": [],
      "source": [
        "import numpy as np\n",
        "import random\n",
        "import os\n",
        "import shutil\n",
        "import pandas as pd\n",
        "from matplotlib import pyplot as plt\n",
        "from pathlib import Path\n",
        "from tqdm import tqdm\n",
        "from re import X\n",
        "import json\n",
        "from PIL import Image\n",
        "import csv\n",
        "import cv2"
      ]
    },
    {
      "cell_type": "code",
      "source": [
        "shutil.rmtree(\"./yolov5\", ignore_errors=True)\n",
        "shutil.rmtree(\"./yolov5x.pt\", ignore_errors=True)"
      ],
      "metadata": {
        "id": "RTvnoCIfANAz"
      },
      "execution_count": null,
      "outputs": []
    },
    {
      "cell_type": "code",
      "source": [
        "SEED = 1988\n",
        "\n",
        "random.seed(SEED)\n",
        "os.environ[\"PYTHONHASHSEED\"] = str(SEED)\n",
        "np.random.seed(SEED)\n",
        "SEED"
      ],
      "metadata": {
        "id": "wnAZAD3lAPTL"
      },
      "execution_count": null,
      "outputs": []
    },
    {
      "cell_type": "code",
      "source": [
        "!git clone https://github.com/ultralytics/yolov5"
      ],
      "metadata": {
        "id": "jAWBcTNGARaK"
      },
      "execution_count": null,
      "outputs": []
    },
    {
      "cell_type": "code",
      "source": [
        "Path(\"./yolov5/yolov5/data/images/train\").mkdir(parents=True, exist_ok=True)"
      ],
      "metadata": {
        "id": "ljU_Rc-bARfG"
      },
      "execution_count": null,
      "outputs": []
    },
    {
      "cell_type": "code",
      "source": [
        "from google.colab import drive\n",
        "drive.mount('/content/gdrive')"
      ],
      "metadata": {
        "id": "ZGv9oTnOAZfW"
      },
      "execution_count": null,
      "outputs": []
    },
    {
      "cell_type": "code",
      "source": [
        "filess = os.listdir('/content/gdrive/MyDrive/CarPlate/train')"
      ],
      "metadata": {
        "id": "D6IOtqr4Adax"
      },
      "execution_count": null,
      "outputs": []
    },
    {
      "cell_type": "code",
      "source": [
        "for i in filess:\n",
        "    shutil.copy2('/content/gdrive/MyDrive/CarPlate/train/' + i, './yolov5/yolov5/data/images/train')"
      ],
      "metadata": {
        "id": "ImCg8ME5Adft"
      },
      "execution_count": null,
      "outputs": []
    },
    {
      "cell_type": "code",
      "source": [
        "train = pd.read_csv(\"/content/gdrive/MyDrive/CarPlate/train.csv\")"
      ],
      "metadata": {
        "id": "gmyJfv2NAdiJ"
      },
      "execution_count": null,
      "outputs": []
    },
    {
      "cell_type": "code",
      "source": [
        "cars = {'car': 1 }"
      ],
      "metadata": {
        "id": "NA1yTx6xAzbe"
      },
      "execution_count": null,
      "outputs": []
    },
    {
      "cell_type": "code",
      "source": [
        "from collections import defaultdict\n",
        "defdict = defaultdict(lambda: [])\n",
        "for i in range(len(train)):\n",
        "    temp = train.iloc[i]\n",
        "    x1 = abs(temp['x1']) \n",
        "    x3 = (temp['x3']) \n",
        "    y1 = (temp['y1'])\n",
        "    y3 = (temp['y3'])\n",
        "    w = abs(x3 - x1)\n",
        "    h = abs(y3 - y1)\n",
        "    defdict[temp['file']].append([(x1 + w / 2)/temp['width'], (y1 + h / 2)/temp['height'], w/temp['width'], h/temp['height'], 'car'])"
      ],
      "metadata": {
        "id": "HlXf0e5rAdk5"
      },
      "execution_count": null,
      "outputs": []
    },
    {
      "cell_type": "code",
      "source": [
        "from pathlib import Path\n",
        "def create_dataset(dictr):\n",
        "    labels_path = Path(\"./yolov5/yolov5/data/labels/train/\")\n",
        "    labels_path.mkdir(parents=True, exist_ok=True)\n",
        "    for img_id, row in enumerate(tqdm(dictr)):\n",
        "        image_name = row\n",
        "        label_name = f\"{image_name[:-4]}.txt\"\n",
        "        with (labels_path / label_name).open(mode=\"w\") as label_file:\n",
        "            for a in dictr[row]:\n",
        "                category_idx = cars[a[4]] - 1\n",
        "                label_file.write(\n",
        "                    f\"{category_idx} {a[0]} {a[1]} {a[2]} {a[3]}\\n\"\n",
        "                )"
      ],
      "metadata": {
        "id": "2h5Liok4Adzu"
      },
      "execution_count": null,
      "outputs": []
    },
    {
      "cell_type": "code",
      "source": [
        "create_dataset(defdict)"
      ],
      "metadata": {
        "id": "yNpmdfo7BJRX"
      },
      "execution_count": null,
      "outputs": []
    },
    {
      "cell_type": "code",
      "source": [
        "f = open('yolov5/data/data1.yaml', 'w+')\n",
        "f.write('train: ./yolov5/data/images/train' + '\\n')\n",
        "f.write('val: ./yolov5/data/images/train' + '\\n')\n",
        "f.write('nc: 1' + '\\n')\n",
        "f.write(\"names: ['car']\" + '\\n')\n",
        "f.close()"
      ],
      "metadata": {
        "id": "fYTIhAQ-BR78"
      },
      "execution_count": null,
      "outputs": []
    },
    {
      "cell_type": "code",
      "source": [
        "%pip install -q wandb\n",
        "import wandb"
      ],
      "metadata": {
        "id": "tsrMLHJzBUOU"
      },
      "execution_count": null,
      "outputs": []
    },
    {
      "cell_type": "code",
      "source": [
        "os.environ['WANDB_MODE']=\"dryrun\""
      ],
      "metadata": {
        "id": "jg7TZRWDBV-1"
      },
      "execution_count": null,
      "outputs": []
    },
    {
      "cell_type": "code",
      "source": [
        "!python ./yolov5/train.py --img 1024 --batch 6 --epochs 20   \\\n",
        "  --data ./yolov5/data/data1.yaml --cfg ./yolov5/models/yolov5x.yaml --weights yolov5x.pt \\\n",
        "  --name yolov5x_plates  --exist-ok"
      ],
      "metadata": {
        "id": "qhM4aTddBYmB"
      },
      "execution_count": null,
      "outputs": []
    },
    {
      "cell_type": "code",
      "source": [
        "!python ./yolov5/detect.py --weights /content/yolov5/runs/train/yolov5x_plates/weights/best.pt \\\n",
        "  --source /content/gdrive/MyDrive/CarPlate/test --save-txt \\\n",
        "  --name exp2 --exist-ok"
      ],
      "metadata": {
        "id": "gjBwhGXDBcO3"
      },
      "execution_count": null,
      "outputs": []
    },
    {
      "cell_type": "markdown",
      "source": [],
      "metadata": {
        "id": "yoSV0VwWbv2O"
      }
    },
    {
      "cell_type": "code",
      "source": [
        "def IOU(box1, box2):\n",
        "  x1, y1, x2, y2 = box1\n",
        "  x3, y3, x4, y4 = box2\n",
        "  x_inter1 = max(x1, x3)\n",
        "  y_inter1 = max(y1, y3)\n",
        "  x_inter2 = min(x2, x4)\n",
        "  y_inter2 = min(y2, y4)\n",
        "  width_inter = abs(x_inter2 - x_inter1)\n",
        "  height_inter = abs(y_inter2 - y_inter1)\n",
        "  area_inter = width_inter * height_inter\n",
        "  width_box1 = abs(x2 - x1)\n",
        "  height_box1 = abs(y2 - y1)\n",
        "  width_box2 = abs(x4 - x3)\n",
        "  height_box2 = abs(y4 - y3)\n",
        "  area_box1 = width_box1 * height_box1\n",
        "  area_box2 = width_box2 * height_box2\n",
        "  area_union = area_box1 + area_box2 - area_inter\n",
        "  iou = area_inter / area_union\n",
        "  return iou\n"
      ],
      "metadata": {
        "id": "6BNMQz_UBpHU"
      },
      "execution_count": null,
      "outputs": []
    },
    {
      "cell_type": "code",
      "source": [
        "filess = os.listdir('/content/yolov5/runs/detect/exp2/labels')\n",
        "sum = 0\n",
        "plus = 0\n",
        "\n",
        "header = ['file', 'x1', 'y1', 'x3', 'y3', 'text']\n",
        "rows = []\n",
        "\n",
        "for item in filess:\n",
        "  if '.txt' in item:\n",
        "    imgPath = item.replace('.txt', '.jpg')\n",
        "    filepath = '/content/gdrive/MyDrive/CarPlate/test/'+ imgPath\n",
        "    img = Image.open(filepath)\n",
        "    width = img.width\n",
        "    height = img.height\n",
        "\n",
        "    res = pd.read_csv('/content/yolov5/runs/detect/exp2/labels/' + item, sep=\" \", header = None)\n",
        "\n",
        "    xC =  res[1][0] \n",
        "    wO =  res[3][0] \n",
        "\n",
        "    yC =  res[2][0] \n",
        "    hO =  res[4][0] \n",
        "\n",
        "    x1 = xC * width - (wO * width) / 2\n",
        "    y1 = yC * height - (hO * height) / 2\n",
        "\n",
        "    x3 = x1 + wO * width\n",
        "    y3 = y1 + hO * height\n",
        "\n",
        "    row = train[train['file'] == imgPath]\n",
        "    Ax1 = row.x1.item()\n",
        "    Ay1 = row.y1.item()\n",
        "    Ax3 = row.x3.item()\n",
        "    Ay3 = row.y3.item()\n",
        "\n",
        "    rows.append([imgPath, x1, y1, x3, y3, train[train['file'] == imgPath].text.item()])\n",
        "    sum = sum + 1\n",
        "    result = IOU([Ax1, Ay1, Ax3, Ay3], [x1, y1, x3, y3])\n",
        "\n",
        "    if result > 0.5:\n",
        "      plus = plus + 1\n",
        "\n",
        "print('Accuracy: ', plus / sum)"
      ],
      "metadata": {
        "id": "FT_tTVGRBrx8"
      },
      "execution_count": null,
      "outputs": []
    },
    {
      "cell_type": "code",
      "source": [
        "with open('/content/test.csv', 'w', encoding='UTF8', newline='') as f:\n",
        "     writer = csv.writer(f)\n",
        "\n",
        "     writer.writerow(header)\n",
        "\n",
        "     writer.writerows(rows)"
      ],
      "metadata": {
        "id": "nD9HOmgUCQtl"
      },
      "execution_count": null,
      "outputs": []
    },
    {
      "cell_type": "code",
      "source": [
        "test = pd.read_csv(\"/content/test.csv\")"
      ],
      "metadata": {
        "id": "FKbd56D0CWyh"
      },
      "execution_count": null,
      "outputs": []
    },
    {
      "cell_type": "code",
      "source": [
        "!pip install easyocr"
      ],
      "metadata": {
        "id": "suFzWrDyCnIW"
      },
      "execution_count": null,
      "outputs": []
    },
    {
      "cell_type": "code",
      "source": [
        "import easyocr\n",
        "\n",
        "header = ['text','easyOCR']\n",
        "rows = []\n",
        "\n",
        "for index, row in test.iterrows():\n",
        "    filePath = row.file\n",
        "    \n",
        "    img = cv2.imread('/content/gdrive/MyDrive/CarPlate/test/' + filePath)\n",
        "    \n",
        "    x1 = round(row.x1)\n",
        "    y1 = round(row.y1)\n",
        "    x3 = round(row.x3)\n",
        "    y3 = round(row.y3)\n",
        "\n",
        "    cropped_image = img[y1:y3, x1:x3]\n",
        "\n",
        "    reader = easyocr.Reader(['ru'])\n",
        "    result = reader.readtext(cropped_image)\n",
        "\n",
        "    easyOCR = ''\n",
        "\n",
        "    if len(result) > 0:\n",
        "        easyOCR = result[0][1]\n",
        "    rows.append([row.text, easyOCR])"
      ],
      "metadata": {
        "id": "ke1NDzP6CXdb"
      },
      "execution_count": null,
      "outputs": []
    },
    {
      "cell_type": "code",
      "source": [
        "!pip install pybind11\n",
        "!pip install fastwer"
      ],
      "metadata": {
        "id": "ZfmsTZTEpI2N"
      },
      "execution_count": null,
      "outputs": []
    },
    {
      "cell_type": "code",
      "source": [
        "import fastwer\n",
        "\n",
        "header = ['output', 'ref', 'cer']\n",
        "numberList = rows\n",
        "resultList = []\n",
        "for i in numberList:\n",
        "  ref = i[0].upper()\n",
        "  output = i[1].upper()\n",
        "  for ch in [' ', '|', '/', ']', '[', '%', '-', '\"', \"'\", '(', '_', ':', '.', '#', '{', '₽', '*', '>', '}', '+']:\n",
        "     output = output.replace(ch,'')\n",
        "  cer = fastwer.score_sent(output, ref, char_level=True)\n",
        "  resultList.append([output, ref, cer])"
      ],
      "metadata": {
        "id": "77skkqaqCB4a"
      },
      "execution_count": null,
      "outputs": []
    },
    {
      "cell_type": "code",
      "source": [
        "with open('/content/cer.csv', 'w', encoding='UTF8', newline='') as f:\n",
        "     writer = csv.writer(f)\n",
        "\n",
        "     writer.writerow(header)\n",
        "\n",
        "     writer.writerows(resultList)"
      ],
      "metadata": {
        "id": "0nEMn3grkAke"
      },
      "execution_count": null,
      "outputs": []
    },
    {
      "cell_type": "code",
      "source": [
        "cer = pd.read_csv('/content/cer.csv')\n",
        "cer"
      ],
      "metadata": {
        "id": "NNMzxZNOkKuM"
      },
      "execution_count": null,
      "outputs": []
    },
    {
      "cell_type": "code",
      "source": [
        "print(f'Mean CER = {cer.cer.mean()}%')"
      ],
      "metadata": {
        "id": "l1-DU_Yqmy2-"
      },
      "execution_count": null,
      "outputs": []
    }
  ]
}