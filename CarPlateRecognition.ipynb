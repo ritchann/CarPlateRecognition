{
  "nbformat": 4,
  "nbformat_minor": 0,
  "metadata": {
    "colab": {
      "provenance": [],
      "collapsed_sections": []
    },
    "kernelspec": {
      "name": "python3",
      "display_name": "Python 3"
    },
    "language_info": {
      "name": "python"
    }
  },
  "cells": [
    {
      "cell_type": "code",
      "source": [
        "!git clone https://github.com/ultralytics/yolov5"
      ],
      "metadata": {
        "id": "imWjhZ10fkqz"
      },
      "execution_count": null,
      "outputs": []
    },
    {
      "cell_type": "code",
      "source": [
        "!pip install easyocr"
      ],
      "metadata": {
        "id": "KQWPgGVuqb9Z"
      },
      "execution_count": null,
      "outputs": []
    },
    {
      "cell_type": "code",
      "execution_count": null,
      "metadata": {
        "id": "A31jxtpweaDe"
      },
      "outputs": [],
      "source": [
        "import random\n",
        "import os\n",
        "import numpy as np\n",
        "from pathlib import Path\n",
        "import shutil\n",
        "import cv2\n",
        "from matplotlib import pyplot as plt\n",
        "import pandas as pd\n",
        "from PIL import Image\n",
        "import easyocr"
      ]
    },
    {
      "cell_type": "code",
      "source": [
        "SEED = 1988\n",
        "\n",
        "random.seed(SEED)\n",
        "os.environ[\"PYTHONHASHSEED\"] = str(SEED)\n",
        "np.random.seed(SEED)"
      ],
      "metadata": {
        "id": "v6MOh42qfeRs"
      },
      "execution_count": null,
      "outputs": []
    },
    {
      "cell_type": "code",
      "source": [
        "imgPath = 'PATH' #here you need to write the path to the image instead of the word PATH"
      ],
      "metadata": {
        "id": "CUQMXSknpjOM"
      },
      "execution_count": null,
      "outputs": []
    },
    {
      "cell_type": "code",
      "source": [
        "!python ./yolov5/detect.py --weights /content/best.pt \\\n",
        "  --source 'PATH' --save-txt \\\n",
        "  --name exp2 --exist-ok\n",
        "#here you need to write the path to the image instead of the word PATH"
      ],
      "metadata": {
        "id": "GSLPP0ZNgdFR"
      },
      "execution_count": null,
      "outputs": []
    },
    {
      "cell_type": "code",
      "source": [
        "img = Image.open(imgPath)\n",
        "\n",
        "width = img.width\n",
        "height = img.height\n",
        "x1 = y1 = x3 = y3 = 0\n",
        "\n",
        "filess = os.listdir('/content/yolov5/runs/detect/exp2/labels')\n",
        "\n",
        "for item in filess:\n",
        "  if '.txt' in item:\n",
        "    res = pd.read_csv('/content/yolov5/runs/detect/exp2/labels/' + item, sep=\" \", header = None)\n",
        "\n",
        "    xC =  res[1][0] \n",
        "    wO =  res[3][0] \n",
        "\n",
        "    yC =  res[2][0] \n",
        "    hO =  res[4][0] \n",
        "\n",
        "    x1 = round(xC * width - (wO * width) / 2)\n",
        "    y1 = round(yC * height - (hO * height) / 2)\n",
        "\n",
        "    x3 = round(x1 + wO * width)\n",
        "    y3 = round(y1 + hO * height)"
      ],
      "metadata": {
        "id": "XEex-Uvrks5O"
      },
      "execution_count": null,
      "outputs": []
    },
    {
      "cell_type": "code",
      "source": [
        "img = cv2.imread(imgPath)\n",
        "plt.imshow(img)"
      ],
      "metadata": {
        "id": "GE9ZoL6NmSQC"
      },
      "execution_count": null,
      "outputs": []
    },
    {
      "cell_type": "code",
      "source": [
        "cropped_image = img[y1:y3, x1:x3]\n",
        "plt.imshow(cropped_image)"
      ],
      "metadata": {
        "id": "esNxM4pkmsi9"
      },
      "execution_count": null,
      "outputs": []
    },
    {
      "cell_type": "code",
      "source": [
        "reader = easyocr.Reader(['ru'])\n",
        "result = reader.readtext(cropped_image, detail = 0) \n",
        "result"
      ],
      "metadata": {
        "id": "czI9KuoDmz6D"
      },
      "execution_count": null,
      "outputs": []
    },
    {
      "cell_type": "code",
      "source": [
        "def withoutSymbols(value):\n",
        "  easyOCR = value\n",
        "  for ch in [' ', '|', '/', ']', '[', '%', '-', '\"', \"'\", '(', '_', ':', '.', '#']:\n",
        "        easyOCR = easyOCR.replace(ch,'')\n",
        "  return easyOCR"
      ],
      "metadata": {
        "id": "z1V8U2qUnMf8"
      },
      "execution_count": null,
      "outputs": []
    },
    {
      "cell_type": "code",
      "source": [
        "if len(result) > 0:\n",
        "  print(withoutSymbols(result[0].lower()))\n",
        "else:\n",
        "  print('Car number not found')"
      ],
      "metadata": {
        "id": "E8QNAO2gnnrR"
      },
      "execution_count": null,
      "outputs": []
    },
    {
      "cell_type": "code",
      "source": [
        "shutil.rmtree(\"/content/yolov5/runs/detect/exp2\", ignore_errors=True)\n",
        "os.mkdir(\"/content/yolov5/runs/detect/exp2\")\n",
        "os.mkdir(\"/content/yolov5/runs/detect/exp2/labels\")"
      ],
      "metadata": {
        "id": "1PU8gXTSorlx"
      },
      "execution_count": null,
      "outputs": []
    }
  ]
}